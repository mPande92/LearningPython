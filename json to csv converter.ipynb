{
 "cells": [
  {
   "cell_type": "code",
   "execution_count": 1,
   "metadata": {},
   "outputs": [],
   "source": [
    "import json\n",
    "import pandas as pd\n"
   ]
  },
  {
   "cell_type": "code",
   "execution_count": 2,
   "metadata": {},
   "outputs": [
    {
     "data": {
      "text/plain": [
       "['0008c5398-1.json',\n",
       " '0008c5398-2.json',\n",
       " '0008c5398-3.json',\n",
       " '0008c5398-4.json',\n",
       " '0008c5398-5.json']"
      ]
     },
     "execution_count": 2,
     "metadata": {},
     "output_type": "execute_result"
    }
   ],
   "source": [
    "import os\n",
    "\n",
    "json_files = []\n",
    "for root, dirs, files in os.walk(\"./train_metadata\"):  \n",
    "    for filename in files:\n",
    "        json_files.append(filename)\n",
    "\n",
    "json_files[0:5]"
   ]
  },
  {
   "cell_type": "code",
   "execution_count": null,
   "metadata": {},
   "outputs": [],
   "source": [
    "total = pd.DataFrame()\n",
    "for file in json_files:\n",
    "    filename = 'D:/Drexel/LeBow/Python/Project/train_metadata/' + file\n",
    "    with open(filename, \"r\", encoding = \"utf8\") as read_file:\n",
    "        data = json.load(read_file)\n",
    "        labels = data['labelAnnotations']\n",
    "        df2 = pd.DataFrame(labels)\n",
    "        df2['image'] = file[1:file.find('.')]\n",
    "        total = total.append(df2)"
   ]
  },
  {
   "cell_type": "code",
   "execution_count": 9,
   "metadata": {},
   "outputs": [
    {
     "data": {
      "text/html": [
       "<div>\n",
       "<style scoped>\n",
       "    .dataframe tbody tr th:only-of-type {\n",
       "        vertical-align: middle;\n",
       "    }\n",
       "\n",
       "    .dataframe tbody tr th {\n",
       "        vertical-align: top;\n",
       "    }\n",
       "\n",
       "    .dataframe thead th {\n",
       "        text-align: right;\n",
       "    }\n",
       "</style>\n",
       "<table border=\"1\" class=\"dataframe\">\n",
       "  <thead>\n",
       "    <tr style=\"text-align: right;\">\n",
       "      <th></th>\n",
       "      <th>description</th>\n",
       "      <th>mid</th>\n",
       "      <th>score</th>\n",
       "      <th>topicality</th>\n",
       "      <th>image</th>\n",
       "    </tr>\n",
       "  </thead>\n",
       "  <tbody>\n",
       "    <tr>\n",
       "      <th>0</th>\n",
       "      <td>cat</td>\n",
       "      <td>/m/01yrx</td>\n",
       "      <td>0.994370</td>\n",
       "      <td>0.994370</td>\n",
       "      <td>008c5398-1</td>\n",
       "    </tr>\n",
       "    <tr>\n",
       "      <th>1</th>\n",
       "      <td>small to medium sized cats</td>\n",
       "      <td>/m/07k6w8</td>\n",
       "      <td>0.921390</td>\n",
       "      <td>0.921390</td>\n",
       "      <td>008c5398-1</td>\n",
       "    </tr>\n",
       "    <tr>\n",
       "      <th>2</th>\n",
       "      <td>whiskers</td>\n",
       "      <td>/m/01l7qd</td>\n",
       "      <td>0.917497</td>\n",
       "      <td>0.917497</td>\n",
       "      <td>008c5398-1</td>\n",
       "    </tr>\n",
       "    <tr>\n",
       "      <th>3</th>\n",
       "      <td>cat like mammal</td>\n",
       "      <td>/m/0307l</td>\n",
       "      <td>0.897073</td>\n",
       "      <td>0.897073</td>\n",
       "      <td>008c5398-1</td>\n",
       "    </tr>\n",
       "    <tr>\n",
       "      <th>4</th>\n",
       "      <td>eye</td>\n",
       "      <td>/m/014sv8</td>\n",
       "      <td>0.800121</td>\n",
       "      <td>0.800121</td>\n",
       "      <td>008c5398-1</td>\n",
       "    </tr>\n",
       "  </tbody>\n",
       "</table>\n",
       "</div>"
      ],
      "text/plain": [
       "                  description        mid     score  topicality       image\n",
       "0                         cat   /m/01yrx  0.994370    0.994370  008c5398-1\n",
       "1  small to medium sized cats  /m/07k6w8  0.921390    0.921390  008c5398-1\n",
       "2                    whiskers  /m/01l7qd  0.917497    0.917497  008c5398-1\n",
       "3             cat like mammal   /m/0307l  0.897073    0.897073  008c5398-1\n",
       "4                         eye  /m/014sv8  0.800121    0.800121  008c5398-1"
      ]
     },
     "execution_count": 9,
     "metadata": {},
     "output_type": "execute_result"
    }
   ],
   "source": [
    "total.head()"
   ]
  },
  {
   "cell_type": "code",
   "execution_count": null,
   "metadata": {},
   "outputs": [],
   "source": [
    "total.to_csv(\"labelAnnotations.csv\")"
   ]
  },
  {
   "cell_type": "code",
   "execution_count": null,
   "metadata": {},
   "outputs": [],
   "source": []
  },
  {
   "cell_type": "code",
   "execution_count": null,
   "metadata": {},
   "outputs": [],
   "source": []
  },
  {
   "cell_type": "code",
   "execution_count": null,
   "metadata": {},
   "outputs": [],
   "source": []
  },
  {
   "cell_type": "markdown",
   "metadata": {},
   "source": [
    "## Another approach - a better one"
   ]
  },
  {
   "cell_type": "code",
   "execution_count": 4,
   "metadata": {},
   "outputs": [],
   "source": [
    "import pandas as pd\n",
    "import json\n",
    "from pandas.io.json import json_normalize"
   ]
  },
  {
   "cell_type": "code",
   "execution_count": 4,
   "metadata": {},
   "outputs": [
    {
     "data": {
      "text/plain": [
       "dict"
      ]
     },
     "execution_count": 4,
     "metadata": {},
     "output_type": "execute_result"
    }
   ],
   "source": [
    "with open(\"../Project/train_metadata/000a290e4-1.json\", \"r\") as f:\n",
    "    data = json.load(f)\n",
    "    \n",
    "type(data)"
   ]
  },
  {
   "cell_type": "code",
   "execution_count": 5,
   "metadata": {},
   "outputs": [
    {
     "data": {
      "text/html": [
       "<div>\n",
       "<style scoped>\n",
       "    .dataframe tbody tr th:only-of-type {\n",
       "        vertical-align: middle;\n",
       "    }\n",
       "\n",
       "    .dataframe tbody tr th {\n",
       "        vertical-align: top;\n",
       "    }\n",
       "\n",
       "    .dataframe thead th {\n",
       "        text-align: right;\n",
       "    }\n",
       "</style>\n",
       "<table border=\"1\" class=\"dataframe\">\n",
       "  <thead>\n",
       "    <tr style=\"text-align: right;\">\n",
       "      <th></th>\n",
       "      <th>cropHintsAnnotation.cropHints</th>\n",
       "      <th>imagePropertiesAnnotation.dominantColors.colors</th>\n",
       "      <th>labelAnnotations</th>\n",
       "    </tr>\n",
       "  </thead>\n",
       "  <tbody>\n",
       "    <tr>\n",
       "      <th>0</th>\n",
       "      <td>[{'boundingPoly': {'vertices': [{}, {'x': 359}...</td>\n",
       "      <td>[{'color': {'red': 155, 'green': 112, 'blue': ...</td>\n",
       "      <td>[{'mid': '/m/0bt9lr', 'description': 'dog', 's...</td>\n",
       "    </tr>\n",
       "  </tbody>\n",
       "</table>\n",
       "</div>"
      ],
      "text/plain": [
       "                       cropHintsAnnotation.cropHints  \\\n",
       "0  [{'boundingPoly': {'vertices': [{}, {'x': 359}...   \n",
       "\n",
       "     imagePropertiesAnnotation.dominantColors.colors  \\\n",
       "0  [{'color': {'red': 155, 'green': 112, 'blue': ...   \n",
       "\n",
       "                                    labelAnnotations  \n",
       "0  [{'mid': '/m/0bt9lr', 'description': 'dog', 's...  "
      ]
     },
     "execution_count": 5,
     "metadata": {},
     "output_type": "execute_result"
    }
   ],
   "source": [
    "df = json_normalize(data)\n",
    "df.head()"
   ]
  },
  {
   "cell_type": "markdown",
   "metadata": {},
   "source": [
    "### Here we see three columns each containing nested json. We will try to get individual json structures in structured formats and then combine each"
   ]
  },
  {
   "cell_type": "code",
   "execution_count": 7,
   "metadata": {},
   "outputs": [
    {
     "data": {
      "text/html": [
       "<div>\n",
       "<style scoped>\n",
       "    .dataframe tbody tr th:only-of-type {\n",
       "        vertical-align: middle;\n",
       "    }\n",
       "\n",
       "    .dataframe tbody tr th {\n",
       "        vertical-align: top;\n",
       "    }\n",
       "\n",
       "    .dataframe thead th {\n",
       "        text-align: right;\n",
       "    }\n",
       "</style>\n",
       "<table border=\"1\" class=\"dataframe\">\n",
       "  <thead>\n",
       "    <tr style=\"text-align: right;\">\n",
       "      <th></th>\n",
       "      <th>description</th>\n",
       "      <th>mid</th>\n",
       "      <th>score</th>\n",
       "      <th>topicality</th>\n",
       "    </tr>\n",
       "  </thead>\n",
       "  <tbody>\n",
       "    <tr>\n",
       "      <th>0</th>\n",
       "      <td>dog</td>\n",
       "      <td>/m/0bt9lr</td>\n",
       "      <td>0.964141</td>\n",
       "      <td>0.964141</td>\n",
       "    </tr>\n",
       "    <tr>\n",
       "      <th>1</th>\n",
       "      <td>dog breed</td>\n",
       "      <td>/m/0kpmf</td>\n",
       "      <td>0.941975</td>\n",
       "      <td>0.941975</td>\n",
       "    </tr>\n",
       "    <tr>\n",
       "      <th>2</th>\n",
       "      <td>dog like mammal</td>\n",
       "      <td>/m/01z5f</td>\n",
       "      <td>0.921540</td>\n",
       "      <td>0.921540</td>\n",
       "    </tr>\n",
       "    <tr>\n",
       "      <th>3</th>\n",
       "      <td>dog breed group</td>\n",
       "      <td>/m/02xl47d</td>\n",
       "      <td>0.899459</td>\n",
       "      <td>0.899459</td>\n",
       "    </tr>\n",
       "    <tr>\n",
       "      <th>4</th>\n",
       "      <td>phalÃ¨ne</td>\n",
       "      <td>/m/0393qn</td>\n",
       "      <td>0.717898</td>\n",
       "      <td>0.717898</td>\n",
       "    </tr>\n",
       "  </tbody>\n",
       "</table>\n",
       "</div>"
      ],
      "text/plain": [
       "       description         mid     score  topicality\n",
       "0              dog   /m/0bt9lr  0.964141    0.964141\n",
       "1        dog breed    /m/0kpmf  0.941975    0.941975\n",
       "2  dog like mammal    /m/01z5f  0.921540    0.921540\n",
       "3  dog breed group  /m/02xl47d  0.899459    0.899459\n",
       "4         phalÃ¨ne   /m/0393qn  0.717898    0.717898"
      ]
     },
     "execution_count": 7,
     "metadata": {},
     "output_type": "execute_result"
    }
   ],
   "source": [
    "df1 = json_normalize(data = data['labelAnnotations'])\n",
    "df1.head()"
   ]
  },
  {
   "cell_type": "code",
   "execution_count": 11,
   "metadata": {},
   "outputs": [
    {
     "data": {
      "text/html": [
       "<div>\n",
       "<style scoped>\n",
       "    .dataframe tbody tr th:only-of-type {\n",
       "        vertical-align: middle;\n",
       "    }\n",
       "\n",
       "    .dataframe tbody tr th {\n",
       "        vertical-align: top;\n",
       "    }\n",
       "\n",
       "    .dataframe thead th {\n",
       "        text-align: right;\n",
       "    }\n",
       "</style>\n",
       "<table border=\"1\" class=\"dataframe\">\n",
       "  <thead>\n",
       "    <tr style=\"text-align: right;\">\n",
       "      <th></th>\n",
       "      <th>color.blue</th>\n",
       "      <th>color.green</th>\n",
       "      <th>color.red</th>\n",
       "      <th>pixelFraction</th>\n",
       "      <th>score</th>\n",
       "    </tr>\n",
       "  </thead>\n",
       "  <tbody>\n",
       "    <tr>\n",
       "      <th>0</th>\n",
       "      <td>91</td>\n",
       "      <td>112</td>\n",
       "      <td>155</td>\n",
       "      <td>0.015744</td>\n",
       "      <td>0.138713</td>\n",
       "    </tr>\n",
       "    <tr>\n",
       "      <th>1</th>\n",
       "      <td>129</td>\n",
       "      <td>146</td>\n",
       "      <td>165</td>\n",
       "      <td>0.196276</td>\n",
       "      <td>0.072678</td>\n",
       "    </tr>\n",
       "    <tr>\n",
       "      <th>2</th>\n",
       "      <td>21</td>\n",
       "      <td>23</td>\n",
       "      <td>35</td>\n",
       "      <td>0.008152</td>\n",
       "      <td>0.061905</td>\n",
       "    </tr>\n",
       "    <tr>\n",
       "      <th>3</th>\n",
       "      <td>56</td>\n",
       "      <td>75</td>\n",
       "      <td>109</td>\n",
       "      <td>0.011588</td>\n",
       "      <td>0.129732</td>\n",
       "    </tr>\n",
       "    <tr>\n",
       "      <th>4</th>\n",
       "      <td>34</td>\n",
       "      <td>47</td>\n",
       "      <td>76</td>\n",
       "      <td>0.008711</td>\n",
       "      <td>0.111193</td>\n",
       "    </tr>\n",
       "  </tbody>\n",
       "</table>\n",
       "</div>"
      ],
      "text/plain": [
       "   color.blue  color.green  color.red  pixelFraction     score\n",
       "0          91          112        155       0.015744  0.138713\n",
       "1         129          146        165       0.196276  0.072678\n",
       "2          21           23         35       0.008152  0.061905\n",
       "3          56           75        109       0.011588  0.129732\n",
       "4          34           47         76       0.008711  0.111193"
      ]
     },
     "execution_count": 11,
     "metadata": {},
     "output_type": "execute_result"
    }
   ],
   "source": [
    "df2 = json_normalize(data = data['imagePropertiesAnnotation']['dominantColors']['colors'])\n",
    "df2.head()"
   ]
  },
  {
   "cell_type": "code",
   "execution_count": 22,
   "metadata": {},
   "outputs": [
    {
     "data": {
      "text/html": [
       "<div>\n",
       "<style scoped>\n",
       "    .dataframe tbody tr th:only-of-type {\n",
       "        vertical-align: middle;\n",
       "    }\n",
       "\n",
       "    .dataframe tbody tr th {\n",
       "        vertical-align: top;\n",
       "    }\n",
       "\n",
       "    .dataframe thead th {\n",
       "        text-align: right;\n",
       "    }\n",
       "</style>\n",
       "<table border=\"1\" class=\"dataframe\">\n",
       "  <thead>\n",
       "    <tr style=\"text-align: right;\">\n",
       "      <th></th>\n",
       "      <th>0</th>\n",
       "      <th>confidence</th>\n",
       "      <th>importanceFraction</th>\n",
       "    </tr>\n",
       "  </thead>\n",
       "  <tbody>\n",
       "    <tr>\n",
       "      <th>0</th>\n",
       "      <td>vertices</td>\n",
       "      <td>0.8</td>\n",
       "      <td>1</td>\n",
       "    </tr>\n",
       "  </tbody>\n",
       "</table>\n",
       "</div>"
      ],
      "text/plain": [
       "          0  confidence  importanceFraction\n",
       "0  vertices         0.8                   1"
      ]
     },
     "execution_count": 22,
     "metadata": {},
     "output_type": "execute_result"
    }
   ],
   "source": [
    "df3 = json_normalize(data = data['cropHintsAnnotation']['cropHints'], record_path=['boundingPoly'], meta=['confidence', 'importanceFraction'])\n",
    "df3.head()"
   ]
  },
  {
   "cell_type": "markdown",
   "metadata": {},
   "source": [
    "The column 'score' appears twice - first in df1 and then in df2. Needs to be taken care"
   ]
  },
  {
   "cell_type": "code",
   "execution_count": 23,
   "metadata": {},
   "outputs": [],
   "source": [
    "df2['colorScore'] = df2['score']\n",
    "del df2['score']"
   ]
  },
  {
   "cell_type": "code",
   "execution_count": 27,
   "metadata": {},
   "outputs": [
    {
     "data": {
      "text/html": [
       "<div>\n",
       "<style scoped>\n",
       "    .dataframe tbody tr th:only-of-type {\n",
       "        vertical-align: middle;\n",
       "    }\n",
       "\n",
       "    .dataframe tbody tr th {\n",
       "        vertical-align: top;\n",
       "    }\n",
       "\n",
       "    .dataframe thead th {\n",
       "        text-align: right;\n",
       "    }\n",
       "</style>\n",
       "<table border=\"1\" class=\"dataframe\">\n",
       "  <thead>\n",
       "    <tr style=\"text-align: right;\">\n",
       "      <th></th>\n",
       "      <th>color.blue</th>\n",
       "      <th>color.green</th>\n",
       "      <th>color.red</th>\n",
       "      <th>pixelFraction</th>\n",
       "      <th>colorScore</th>\n",
       "    </tr>\n",
       "  </thead>\n",
       "  <tbody>\n",
       "    <tr>\n",
       "      <th>0</th>\n",
       "      <td>91</td>\n",
       "      <td>112</td>\n",
       "      <td>155</td>\n",
       "      <td>0.015744</td>\n",
       "      <td>0.138713</td>\n",
       "    </tr>\n",
       "    <tr>\n",
       "      <th>1</th>\n",
       "      <td>129</td>\n",
       "      <td>146</td>\n",
       "      <td>165</td>\n",
       "      <td>0.196276</td>\n",
       "      <td>0.072678</td>\n",
       "    </tr>\n",
       "    <tr>\n",
       "      <th>2</th>\n",
       "      <td>21</td>\n",
       "      <td>23</td>\n",
       "      <td>35</td>\n",
       "      <td>0.008152</td>\n",
       "      <td>0.061905</td>\n",
       "    </tr>\n",
       "    <tr>\n",
       "      <th>3</th>\n",
       "      <td>56</td>\n",
       "      <td>75</td>\n",
       "      <td>109</td>\n",
       "      <td>0.011588</td>\n",
       "      <td>0.129732</td>\n",
       "    </tr>\n",
       "    <tr>\n",
       "      <th>4</th>\n",
       "      <td>34</td>\n",
       "      <td>47</td>\n",
       "      <td>76</td>\n",
       "      <td>0.008711</td>\n",
       "      <td>0.111193</td>\n",
       "    </tr>\n",
       "  </tbody>\n",
       "</table>\n",
       "</div>"
      ],
      "text/plain": [
       "   color.blue  color.green  color.red  pixelFraction  colorScore\n",
       "0          91          112        155       0.015744    0.138713\n",
       "1         129          146        165       0.196276    0.072678\n",
       "2          21           23         35       0.008152    0.061905\n",
       "3          56           75        109       0.011588    0.129732\n",
       "4          34           47         76       0.008711    0.111193"
      ]
     },
     "execution_count": 27,
     "metadata": {},
     "output_type": "execute_result"
    }
   ],
   "source": [
    "df2.head()"
   ]
  },
  {
   "cell_type": "code",
   "execution_count": 31,
   "metadata": {},
   "outputs": [
    {
     "data": {
      "text/html": [
       "<div>\n",
       "<style scoped>\n",
       "    .dataframe tbody tr th:only-of-type {\n",
       "        vertical-align: middle;\n",
       "    }\n",
       "\n",
       "    .dataframe tbody tr th {\n",
       "        vertical-align: top;\n",
       "    }\n",
       "\n",
       "    .dataframe thead th {\n",
       "        text-align: right;\n",
       "    }\n",
       "</style>\n",
       "<table border=\"1\" class=\"dataframe\">\n",
       "  <thead>\n",
       "    <tr style=\"text-align: right;\">\n",
       "      <th></th>\n",
       "      <th>color.blue</th>\n",
       "      <th>color.green</th>\n",
       "      <th>color.red</th>\n",
       "      <th>pixelFraction</th>\n",
       "      <th>colorscore</th>\n",
       "    </tr>\n",
       "  </thead>\n",
       "  <tbody>\n",
       "    <tr>\n",
       "      <th>0</th>\n",
       "      <td>91</td>\n",
       "      <td>112</td>\n",
       "      <td>155</td>\n",
       "      <td>0.015744</td>\n",
       "      <td>0.138713</td>\n",
       "    </tr>\n",
       "    <tr>\n",
       "      <th>1</th>\n",
       "      <td>129</td>\n",
       "      <td>146</td>\n",
       "      <td>165</td>\n",
       "      <td>0.196276</td>\n",
       "      <td>0.072678</td>\n",
       "    </tr>\n",
       "    <tr>\n",
       "      <th>2</th>\n",
       "      <td>21</td>\n",
       "      <td>23</td>\n",
       "      <td>35</td>\n",
       "      <td>0.008152</td>\n",
       "      <td>0.061905</td>\n",
       "    </tr>\n",
       "    <tr>\n",
       "      <th>3</th>\n",
       "      <td>56</td>\n",
       "      <td>75</td>\n",
       "      <td>109</td>\n",
       "      <td>0.011588</td>\n",
       "      <td>0.129732</td>\n",
       "    </tr>\n",
       "    <tr>\n",
       "      <th>4</th>\n",
       "      <td>34</td>\n",
       "      <td>47</td>\n",
       "      <td>76</td>\n",
       "      <td>0.008711</td>\n",
       "      <td>0.111193</td>\n",
       "    </tr>\n",
       "  </tbody>\n",
       "</table>\n",
       "</div>"
      ],
      "text/plain": [
       "   color.blue  color.green  color.red  pixelFraction  colorscore\n",
       "0          91          112        155       0.015744    0.138713\n",
       "1         129          146        165       0.196276    0.072678\n",
       "2          21           23         35       0.008152    0.061905\n",
       "3          56           75        109       0.011588    0.129732\n",
       "4          34           47         76       0.008711    0.111193"
      ]
     },
     "execution_count": 31,
     "metadata": {},
     "output_type": "execute_result"
    }
   ],
   "source": [
    "df2 = df2.rename(columns = {'colorScore': 'colorscore'})\n",
    "df2.head()"
   ]
  },
  {
   "cell_type": "markdown",
   "metadata": {},
   "source": [
    "### Combine both methods to achieve desired result"
   ]
  },
  {
   "cell_type": "code",
   "execution_count": 2,
   "metadata": {},
   "outputs": [],
   "source": [
    "import pandas as pd\n",
    "import json\n",
    "from pandas.io.json import json_normalize\n",
    "import os"
   ]
  },
  {
   "cell_type": "code",
   "execution_count": null,
   "metadata": {},
   "outputs": [],
   "source": [
    "json_files = []\n",
    "for root, dirs, files in os.walk(\"./train_metadata\"):  \n",
    "    for filename in files:\n",
    "        json_files.append(filename)\n",
    "\n",
    "json_files[0:5]"
   ]
  },
  {
   "cell_type": "code",
   "execution_count": 20,
   "metadata": {},
   "outputs": [],
   "source": [
    "labels_df = pd.DataFrame()\n",
    "colors_df = pd.DataFrame()\n",
    "for file in json_files[1:200]:\n",
    "    filename = 'D:/Drexel/LeBow/Python/Project/train_metadata/' + file\n",
    "    with open(filename, \"r\", encoding = \"utf8\") as read_file:\n",
    "        data = json.load(read_file)\n",
    "        if \"labelAnnotations\" in data.keys():\n",
    "            df1 = json_normalize(data = data['labelAnnotations'])\n",
    "        if \"imagePropertiesAnnotation\" in data.keys():        \n",
    "            df2 = json_normalize(data = data['imagePropertiesAnnotation']['dominantColors']['colors'])\n",
    "        \n",
    "        df1['image'] = df2['image'] = file[1:file.find(\".\")]\n",
    "        labels_df = labels_df.append(df1)\n",
    "        colors_df = colors_df.append(df2)"
   ]
  },
  {
   "cell_type": "code",
   "execution_count": 21,
   "metadata": {},
   "outputs": [
    {
     "data": {
      "text/html": [
       "<div>\n",
       "<style scoped>\n",
       "    .dataframe tbody tr th:only-of-type {\n",
       "        vertical-align: middle;\n",
       "    }\n",
       "\n",
       "    .dataframe tbody tr th {\n",
       "        vertical-align: top;\n",
       "    }\n",
       "\n",
       "    .dataframe thead th {\n",
       "        text-align: right;\n",
       "    }\n",
       "</style>\n",
       "<table border=\"1\" class=\"dataframe\">\n",
       "  <thead>\n",
       "    <tr style=\"text-align: right;\">\n",
       "      <th></th>\n",
       "      <th>description</th>\n",
       "      <th>mid</th>\n",
       "      <th>score</th>\n",
       "      <th>topicality</th>\n",
       "      <th>image</th>\n",
       "    </tr>\n",
       "  </thead>\n",
       "  <tbody>\n",
       "    <tr>\n",
       "      <th>0</th>\n",
       "      <td>cat</td>\n",
       "      <td>/m/01yrx</td>\n",
       "      <td>0.993564</td>\n",
       "      <td>0.993564</td>\n",
       "      <td>008c5398-2</td>\n",
       "    </tr>\n",
       "    <tr>\n",
       "      <th>1</th>\n",
       "      <td>small to medium sized cats</td>\n",
       "      <td>/m/07k6w8</td>\n",
       "      <td>0.921133</td>\n",
       "      <td>0.921133</td>\n",
       "      <td>008c5398-2</td>\n",
       "    </tr>\n",
       "    <tr>\n",
       "      <th>2</th>\n",
       "      <td>cat like mammal</td>\n",
       "      <td>/m/0307l</td>\n",
       "      <td>0.888296</td>\n",
       "      <td>0.888296</td>\n",
       "      <td>008c5398-2</td>\n",
       "    </tr>\n",
       "    <tr>\n",
       "      <th>3</th>\n",
       "      <td>whiskers</td>\n",
       "      <td>/m/01l7qd</td>\n",
       "      <td>0.845597</td>\n",
       "      <td>0.845597</td>\n",
       "      <td>008c5398-2</td>\n",
       "    </tr>\n",
       "    <tr>\n",
       "      <th>4</th>\n",
       "      <td>domestic short haired cat</td>\n",
       "      <td>/m/012c9l</td>\n",
       "      <td>0.797560</td>\n",
       "      <td>0.797560</td>\n",
       "      <td>008c5398-2</td>\n",
       "    </tr>\n",
       "  </tbody>\n",
       "</table>\n",
       "</div>"
      ],
      "text/plain": [
       "                  description        mid     score  topicality       image\n",
       "0                         cat   /m/01yrx  0.993564    0.993564  008c5398-2\n",
       "1  small to medium sized cats  /m/07k6w8  0.921133    0.921133  008c5398-2\n",
       "2             cat like mammal   /m/0307l  0.888296    0.888296  008c5398-2\n",
       "3                    whiskers  /m/01l7qd  0.845597    0.845597  008c5398-2\n",
       "4   domestic short haired cat  /m/012c9l  0.797560    0.797560  008c5398-2"
      ]
     },
     "execution_count": 21,
     "metadata": {},
     "output_type": "execute_result"
    }
   ],
   "source": [
    "labels_df.head()"
   ]
  },
  {
   "cell_type": "code",
   "execution_count": 14,
   "metadata": {},
   "outputs": [
    {
     "data": {
      "text/html": [
       "<div>\n",
       "<style scoped>\n",
       "    .dataframe tbody tr th:only-of-type {\n",
       "        vertical-align: middle;\n",
       "    }\n",
       "\n",
       "    .dataframe tbody tr th {\n",
       "        vertical-align: top;\n",
       "    }\n",
       "\n",
       "    .dataframe thead th {\n",
       "        text-align: right;\n",
       "    }\n",
       "</style>\n",
       "<table border=\"1\" class=\"dataframe\">\n",
       "  <thead>\n",
       "    <tr style=\"text-align: right;\">\n",
       "      <th></th>\n",
       "      <th>color.blue</th>\n",
       "      <th>color.green</th>\n",
       "      <th>color.red</th>\n",
       "      <th>pixelFraction</th>\n",
       "      <th>score</th>\n",
       "      <th>image</th>\n",
       "    </tr>\n",
       "  </thead>\n",
       "  <tbody>\n",
       "    <tr>\n",
       "      <th>0</th>\n",
       "      <td>149</td>\n",
       "      <td>159</td>\n",
       "      <td>167</td>\n",
       "      <td>0.123551</td>\n",
       "      <td>0.201247</td>\n",
       "      <td>008c5398-2</td>\n",
       "    </tr>\n",
       "    <tr>\n",
       "      <th>1</th>\n",
       "      <td>35</td>\n",
       "      <td>75</td>\n",
       "      <td>120</td>\n",
       "      <td>0.027811</td>\n",
       "      <td>0.126252</td>\n",
       "      <td>008c5398-2</td>\n",
       "    </tr>\n",
       "    <tr>\n",
       "      <th>2</th>\n",
       "      <td>85</td>\n",
       "      <td>109</td>\n",
       "      <td>154</td>\n",
       "      <td>0.014785</td>\n",
       "      <td>0.088672</td>\n",
       "      <td>008c5398-2</td>\n",
       "    </tr>\n",
       "    <tr>\n",
       "      <th>3</th>\n",
       "      <td>15</td>\n",
       "      <td>18</td>\n",
       "      <td>24</td>\n",
       "      <td>0.261488</td>\n",
       "      <td>0.024348</td>\n",
       "      <td>008c5398-2</td>\n",
       "    </tr>\n",
       "    <tr>\n",
       "      <th>4</th>\n",
       "      <td>101</td>\n",
       "      <td>166</td>\n",
       "      <td>153</td>\n",
       "      <td>0.003117</td>\n",
       "      <td>0.001488</td>\n",
       "      <td>008c5398-2</td>\n",
       "    </tr>\n",
       "  </tbody>\n",
       "</table>\n",
       "</div>"
      ],
      "text/plain": [
       "   color.blue  color.green  color.red  pixelFraction     score       image\n",
       "0         149          159        167       0.123551  0.201247  008c5398-2\n",
       "1          35           75        120       0.027811  0.126252  008c5398-2\n",
       "2          85          109        154       0.014785  0.088672  008c5398-2\n",
       "3          15           18         24       0.261488  0.024348  008c5398-2\n",
       "4         101          166        153       0.003117  0.001488  008c5398-2"
      ]
     },
     "execution_count": 14,
     "metadata": {},
     "output_type": "execute_result"
    }
   ],
   "source": [
    "colors_df.head()"
   ]
  },
  {
   "cell_type": "code",
   "execution_count": 1,
   "metadata": {},
   "outputs": [
    {
     "ename": "NameError",
     "evalue": "name 'labels_df' is not defined",
     "output_type": "error",
     "traceback": [
      "\u001b[1;31m---------------------------------------------------------------------------\u001b[0m",
      "\u001b[1;31mNameError\u001b[0m                                 Traceback (most recent call last)",
      "\u001b[1;32m<ipython-input-1-c598d9c51873>\u001b[0m in \u001b[0;36m<module>\u001b[1;34m()\u001b[0m\n\u001b[1;32m----> 1\u001b[1;33m \u001b[0mlabels_df\u001b[0m\u001b[1;33m.\u001b[0m\u001b[0mto_csv\u001b[0m\u001b[1;33m(\u001b[0m\u001b[1;34m\"labelAnnotations.csv\"\u001b[0m\u001b[1;33m,\u001b[0m \u001b[0msep\u001b[0m\u001b[1;33m=\u001b[0m\u001b[1;34m\",\"\u001b[0m\u001b[1;33m)\u001b[0m\u001b[1;33m\u001b[0m\u001b[0m\n\u001b[0m\u001b[0;32m      2\u001b[0m \u001b[0mcolors_df\u001b[0m\u001b[1;33m.\u001b[0m\u001b[0mto_csv\u001b[0m\u001b[1;33m(\u001b[0m\u001b[1;34m\"colorAnnotations.csv\"\u001b[0m\u001b[1;33m,\u001b[0m \u001b[0msep\u001b[0m\u001b[1;33m=\u001b[0m\u001b[1;34m\",\"\u001b[0m\u001b[1;33m)\u001b[0m\u001b[1;33m\u001b[0m\u001b[0m\n",
      "\u001b[1;31mNameError\u001b[0m: name 'labels_df' is not defined"
     ]
    }
   ],
   "source": [
    "labels_df.to_csv(\"labelAnnotations.csv\", sep=\",\")\n",
    "colors_df.to_csv(\"colorAnnotations.csv\", sep=\",\")"
   ]
  },
  {
   "cell_type": "code",
   "execution_count": null,
   "metadata": {},
   "outputs": [],
   "source": [
    "json_files = []\n",
    "for root, dirs, files in os.walk(\"./train_metadata\"):  \n",
    "    for filename in files:\n",
    "        json_files.append(filename)\n",
    "\n",
    "json_files[0:5]"
   ]
  },
  {
   "cell_type": "code",
   "execution_count": null,
   "metadata": {},
   "outputs": [],
   "source": []
  }
 ],
 "metadata": {
  "kernelspec": {
   "display_name": "Python 3",
   "language": "python",
   "name": "python3"
  },
  "language_info": {
   "codemirror_mode": {
    "name": "ipython",
    "version": 3
   },
   "file_extension": ".py",
   "mimetype": "text/x-python",
   "name": "python",
   "nbconvert_exporter": "python",
   "pygments_lexer": "ipython3",
   "version": "3.7.0"
  }
 },
 "nbformat": 4,
 "nbformat_minor": 2
}
