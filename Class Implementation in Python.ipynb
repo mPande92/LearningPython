{
 "cells": [
  {
   "cell_type": "markdown",
   "metadata": {},
   "source": [
    "## Classes in Python"
   ]
  },
  {
   "cell_type": "markdown",
   "metadata": {},
   "source": [
    "### Implementation of basic portfolio operations in a Bank"
   ]
  },
  {
   "cell_type": "code",
   "execution_count": 1,
   "metadata": {},
   "outputs": [],
   "source": [
    "class portfolio:\n",
    "    \n",
    "    def __init__(self):\n",
    "        \n",
    "        self.checking = {}\n",
    "        self.saving = {}\n",
    "        self.credit = {}\n",
    "        self.stock = {}\n",
    "        \n",
    "    def add_checking_account(self, account_id): \n",
    "\n",
    "        if not account_id in self.checking.keys():\n",
    "            self.checking[account_id] = 0\n",
    "    \n",
    "    def deposit_money(self, account_id, amount):\n",
    "        \n",
    "        \n",
    "        if account_id in self.checking.keys():\n",
    "            self.checking[account_id] = amount\n",
    "\n",
    "        \n",
    "        \n",
    "    def withdraw_money(self, account_id, amount):\n",
    "        \n",
    "        \n",
    "        if account_id in self.checking.keys():\n",
    "            current = self.checking[account_id]\n",
    "            if amount <= current:\n",
    "                self.checking[account_id] = current - amount\n",
    "        \n",
    "    \n",
    "    def get_total_checking_amount(self):\n",
    "        \n",
    "        \"\"\" return the total money amount in all of the checking accounts, \n",
    "        \"\"\"\n",
    "        return sum(self.checking.values())\n",
    "    \n",
    "    def add_savings_account(self, account_id):\n",
    "\n",
    "                \n",
    "        if not account_id in self.saving.keys():\n",
    "            self.saving[account_id] = 0\n",
    "        \n",
    "        \n",
    "    def invest_in_savings_account(self, account_id_savings, amount, account_id_checking):\n",
    "            \n",
    "        \n",
    "        if account_id_savings in self.saving.keys() and account_id_checking in self.checking.keys():\n",
    "            if amount <= self.checking[account_id_checking]:\n",
    "                self.checking[account_id_checking] -= amount\n",
    "                self.saving[account_id_savings] += amount\n",
    "    \n",
    "    def get_total_savings_amount(self):\n",
    "\n",
    "        \n",
    "        \"\"\" return the total money amount in all of the savings accounts, \n",
    "        \"\"\"\n",
    "        return sum(self.saving.values())\n",
    "        \n",
    "    def add_credit_account(self, account_id):\n",
    "        \n",
    "        if not account_id in self.credit.keys():\n",
    "            self.credit[account_id] = 0\n",
    "    \n",
    "    def get_credit_balance(self):\n",
    "        \n",
    "        \n",
    "        \"\"\" return the total money owed in all of the credit card accounts, \n",
    "        \"\"\"\n",
    "        return sum(self.credit.values())\n",
    "        \n",
    "    def use_credit_card(self, account_id, amount):\n",
    "        \n",
    "        if account_id in self.credit.keys():\n",
    "            self.credit[account_id] -= amount\n",
    "        \n",
    "    def pay_credit_balance(self, account_id_credit, amount, account_id_checking):\n",
    "                \n",
    "        \"\"\" This function should update both credit dictionary as well as checking dictionary\n",
    "        \"\"\"\n",
    "        if account_id_credit in self.credit.keys() and account_id_checking in self.checking.keys():\n",
    "            if amount <= self.checking[account_id_checking]:\n",
    "                self.checking[account_id_checking] = self.checking[account_id_checking] - amount\n",
    "                self.credit[account_id_credit] += amount\n",
    "    \n",
    "        \n",
    "    def buy_stock(self, stock_name, quantity, daily_stock_prices, account_id_checking):\n",
    "        \n",
    "        stock_price = daily_stock_prices[stock_name] * quantity\n",
    "        if account_id_checking in self.checking.keys() and (stock_price <= self.checking[account_id_checking]):\n",
    "            self.checking[account_id_checking] -= stock_price\n",
    "            if stock_name in self.stock.keys():\n",
    "                self.stock[stock_name] += quantity\n",
    "            else:\n",
    "                self.stock[stock_name] = quantity\n",
    "            \n",
    "    \n",
    "    def sell_stock(self, stock_name, quantity, daily_stock_prices, account_id_checking):\n",
    "        \n",
    "        \n",
    "        stock_price = daily_stock_prices[stock_name] * quantity\n",
    "        if account_id_checking in self.checking.keys():\n",
    "            self.checking[account_id_checking] += stock_price\n",
    "            self.stock[stock_name] = self.stock[stock_name] - quantity\n",
    "            if self.stock[stock_name] == 0:\n",
    "                del self.stock[stock_name]\n",
    "\n",
    "        \n",
    "    def get_stock_value(self,daily_stock_prices):\n",
    "\n",
    "        \"\"\" \n",
    "        This is going to return the total dollar amount you have in your stocks\n",
    "        \n",
    "        \"\"\"\n",
    "        amount = 0\n",
    "        for curr_stock in self.stock:\n",
    "            amount += (self.stock[curr_stock] * daily_stock_prices[curr_stock])\n",
    "            \n",
    "        return amount\n",
    "        \n",
    "    def get_total_portfolio(self, daily_stock_prices):\n",
    "        \n",
    "        \"\"\" total amount of wealth you have in all your accounts \"\"\"\n",
    "        amount = self.get_total_checking_amount() + self.get_total_savings_amount() + self.get_credit_balance() + self.get_stock_value(daily_stock_prices)\n",
    "        return amount\n"
   ]
  },
  {
   "cell_type": "code",
   "execution_count": 2,
   "metadata": {},
   "outputs": [
    {
     "name": "stdout",
     "output_type": "stream",
     "text": [
      "Pass\n"
     ]
    }
   ],
   "source": [
    "# test_case 1\n",
    "myportfolio = portfolio()\n",
    "if myportfolio.checking == {}:\n",
    "    print('Pass')\n",
    "else:\n",
    "    print('Fail')"
   ]
  },
  {
   "cell_type": "code",
   "execution_count": 3,
   "metadata": {},
   "outputs": [
    {
     "name": "stdout",
     "output_type": "stream",
     "text": [
      "Pass\n"
     ]
    }
   ],
   "source": [
    "# test_case 2\n",
    "myportfolio.add_checking_account('chase_6688')\n",
    "if myportfolio.checking == {'chase_6688': 0}:\n",
    "    print('Pass')\n",
    "else:\n",
    "    print('Fail')"
   ]
  },
  {
   "cell_type": "code",
   "execution_count": 4,
   "metadata": {},
   "outputs": [
    {
     "name": "stdout",
     "output_type": "stream",
     "text": [
      "Pass\n"
     ]
    }
   ],
   "source": [
    "# test_case 3\n",
    "myportfolio.add_checking_account('discover_7732')\n",
    "myportfolio.deposit_money('chase_6688', 500)\n",
    "if myportfolio.checking == {'chase_6688': 500, 'discover_7732':0}:\n",
    "    print('Pass')\n",
    "else:\n",
    "    print('Fail')"
   ]
  },
  {
   "cell_type": "code",
   "execution_count": 5,
   "metadata": {},
   "outputs": [
    {
     "name": "stdout",
     "output_type": "stream",
     "text": [
      "Pass\n"
     ]
    }
   ],
   "source": [
    "# test_case 4\n",
    "myportfolio.deposit_money('discover_7732', 9000)\n",
    "if myportfolio.checking == {'chase_6688': 500, 'discover_7732':9000}:\n",
    "    print('Pass')\n",
    "else:\n",
    "    print('Fail')"
   ]
  },
  {
   "cell_type": "code",
   "execution_count": 6,
   "metadata": {},
   "outputs": [
    {
     "name": "stdout",
     "output_type": "stream",
     "text": [
      "Pass\n"
     ]
    }
   ],
   "source": [
    "# test_case 5\n",
    "myportfolio.withdraw_money('chase_6688', 400)\n",
    "myportfolio.withdraw_money('discover_7732', 2500)\n",
    "if myportfolio.checking == {'chase_6688': 100, 'discover_7732':6500}:\n",
    "    print('Pass')\n",
    "else:\n",
    "    print('Fail')"
   ]
  },
  {
   "cell_type": "code",
   "execution_count": 7,
   "metadata": {},
   "outputs": [
    {
     "name": "stdout",
     "output_type": "stream",
     "text": [
      "Pass\n"
     ]
    }
   ],
   "source": [
    "# test_case 6\n",
    "if myportfolio.get_total_checking_amount() == 6600:\n",
    "    print('Pass')\n",
    "else:\n",
    "    print('Fail')"
   ]
  },
  {
   "cell_type": "code",
   "execution_count": 8,
   "metadata": {},
   "outputs": [
    {
     "name": "stdout",
     "output_type": "stream",
     "text": [
      "Pass\n"
     ]
    }
   ],
   "source": [
    "# test_case 7\n",
    "myportfolio.add_savings_account('chase_saving_4444')\n",
    "myportfolio.add_savings_account('discover_saving_3785')\n",
    "if myportfolio.saving == {'chase_saving_4444': 0, 'discover_saving_3785':0}:\n",
    "    print('Pass')\n",
    "else:\n",
    "    print('Fail')"
   ]
  },
  {
   "cell_type": "code",
   "execution_count": 9,
   "metadata": {},
   "outputs": [
    {
     "name": "stdout",
     "output_type": "stream",
     "text": [
      "Pass\n"
     ]
    }
   ],
   "source": [
    "# test_case 8\n",
    "myportfolio.invest_in_savings_account('discover_saving_3785', 100000, 'discover_7732')\n",
    "if (myportfolio.saving == {'chase_saving_4444': 0, 'discover_saving_3785':0}) and (myportfolio.checking == {'chase_6688': 100, 'discover_7732':6500}):\n",
    "    print('Pass')\n",
    "else:\n",
    "    print('Fail')"
   ]
  },
  {
   "cell_type": "code",
   "execution_count": 10,
   "metadata": {},
   "outputs": [
    {
     "name": "stdout",
     "output_type": "stream",
     "text": [
      "Pass\n"
     ]
    }
   ],
   "source": [
    "# test_case 9\n",
    "myportfolio.invest_in_savings_account('discover_saving_3785', 1000, 'discover_7732')\n",
    "if (myportfolio.saving == {'chase_saving_4444': 0, 'discover_saving_3785':1000}) and (myportfolio.checking == {'chase_6688': 100, 'discover_7732':5500}):\n",
    "    print('Pass')\n",
    "else:\n",
    "    print('Fail')"
   ]
  },
  {
   "cell_type": "code",
   "execution_count": 11,
   "metadata": {},
   "outputs": [
    {
     "name": "stdout",
     "output_type": "stream",
     "text": [
      "Pass\n"
     ]
    }
   ],
   "source": [
    "# test_case 10\n",
    "if myportfolio.get_total_checking_amount() == 5600:\n",
    "    print('Pass')\n",
    "else:\n",
    "    print('Fail')"
   ]
  },
  {
   "cell_type": "code",
   "execution_count": 12,
   "metadata": {},
   "outputs": [
    {
     "name": "stdout",
     "output_type": "stream",
     "text": [
      "Pass\n"
     ]
    }
   ],
   "source": [
    "# test_case 11\n",
    "if myportfolio.get_total_savings_amount() == 1000:\n",
    "    print('Pass')\n",
    "else:\n",
    "    print('Fail')"
   ]
  },
  {
   "cell_type": "code",
   "execution_count": 13,
   "metadata": {},
   "outputs": [
    {
     "name": "stdout",
     "output_type": "stream",
     "text": [
      "Pass\n"
     ]
    }
   ],
   "source": [
    "# test_case 12\n",
    "if myportfolio.get_total_portfolio({'APPL':100, 'GOOGL': 130}) == 6600:\n",
    "    print('Pass')\n",
    "else:\n",
    "    print('Fail')"
   ]
  },
  {
   "cell_type": "code",
   "execution_count": 14,
   "metadata": {},
   "outputs": [
    {
     "name": "stdout",
     "output_type": "stream",
     "text": [
      "Pass\n"
     ]
    }
   ],
   "source": [
    "# test_case 13\n",
    "myportfolio.add_credit_account('amex_1111')\n",
    "myportfolio.add_credit_account('capitaloneVenture_6644')\n",
    "if myportfolio.credit == {'amex_1111': 0, 'capitaloneVenture_6644': 0}:\n",
    "    print('Pass')\n",
    "else:\n",
    "    print('Fail')"
   ]
  },
  {
   "cell_type": "code",
   "execution_count": 15,
   "metadata": {},
   "outputs": [
    {
     "name": "stdout",
     "output_type": "stream",
     "text": [
      "Pass\n"
     ]
    }
   ],
   "source": [
    "# test_case 14\n",
    "myportfolio.use_credit_card('capitaloneVenture_6644', 4000)\n",
    "if myportfolio.credit == {'amex_1111': 0, 'capitaloneVenture_6644': -4000}:\n",
    "    print('Pass')\n",
    "else:\n",
    "    print('Fail')"
   ]
  },
  {
   "cell_type": "code",
   "execution_count": 16,
   "metadata": {},
   "outputs": [
    {
     "name": "stdout",
     "output_type": "stream",
     "text": [
      "Pass\n"
     ]
    }
   ],
   "source": [
    "# test_case 15\n",
    "if myportfolio.get_total_portfolio({'APPL':100, 'GOOGL': 130}) == 2600:\n",
    "    print('Pass')\n",
    "else:\n",
    "    print('Fail')"
   ]
  },
  {
   "cell_type": "code",
   "execution_count": 17,
   "metadata": {},
   "outputs": [
    {
     "name": "stdout",
     "output_type": "stream",
     "text": [
      "Pass\n"
     ]
    }
   ],
   "source": [
    "# test_case 16\n",
    "myportfolio.pay_credit_balance('capitaloneVenture_6644', 50, 'chase_6688')\n",
    "if myportfolio.checking == {'chase_6688': 50, 'discover_7732': 5500}:\n",
    "    print('Pass')\n",
    "else:\n",
    "    print('Fail')"
   ]
  },
  {
   "cell_type": "code",
   "execution_count": 18,
   "metadata": {},
   "outputs": [
    {
     "name": "stdout",
     "output_type": "stream",
     "text": [
      "Pass\n"
     ]
    }
   ],
   "source": [
    "# test_case 17\n",
    "if myportfolio.get_credit_balance() == -3950:\n",
    "    print('Pass')\n",
    "else:\n",
    "    print('Fail')"
   ]
  },
  {
   "cell_type": "code",
   "execution_count": 19,
   "metadata": {},
   "outputs": [
    {
     "name": "stdout",
     "output_type": "stream",
     "text": [
      "Pass\n"
     ]
    }
   ],
   "source": [
    "# test_case 18\n",
    "myportfolio.pay_credit_balance('capitaloneVenture_6644', 2000, 'discover_7732')\n",
    "if myportfolio.checking == {'chase_6688': 50, 'discover_7732': 3500}:\n",
    "    print('Pass')\n",
    "else:\n",
    "    print('Fail')"
   ]
  },
  {
   "cell_type": "code",
   "execution_count": 20,
   "metadata": {},
   "outputs": [
    {
     "name": "stdout",
     "output_type": "stream",
     "text": [
      "Pass\n"
     ]
    }
   ],
   "source": [
    "# test_case 19\n",
    "if myportfolio.get_credit_balance() == -1950:\n",
    "    print('Pass')\n",
    "else:\n",
    "    print('Fail')"
   ]
  },
  {
   "cell_type": "code",
   "execution_count": 21,
   "metadata": {},
   "outputs": [
    {
     "name": "stdout",
     "output_type": "stream",
     "text": [
      "Pass\n"
     ]
    }
   ],
   "source": [
    "# test_case 20\n",
    "myportfolio.buy_stock('APPL', 5, {'APPL':100, 'GOOGL': 130}, 'discover_7732')\n",
    "if myportfolio.stock == {'APPL': 5}:\n",
    "    print('Pass')\n",
    "else:\n",
    "    print('Fail')"
   ]
  },
  {
   "cell_type": "code",
   "execution_count": 22,
   "metadata": {},
   "outputs": [
    {
     "name": "stdout",
     "output_type": "stream",
     "text": [
      "Pass\n"
     ]
    }
   ],
   "source": [
    "# test_case 21\n",
    "if myportfolio.get_total_portfolio({'APPL':100, 'GOOGL': 130}) == 2600:\n",
    "    print('Pass')\n",
    "else:\n",
    "    print('Fail')    "
   ]
  },
  {
   "cell_type": "code",
   "execution_count": 23,
   "metadata": {},
   "outputs": [
    {
     "name": "stdout",
     "output_type": "stream",
     "text": [
      "Pass\n"
     ]
    }
   ],
   "source": [
    "# test_case 22\n",
    "myportfolio.sell_stock('APPL', 3, {'APPL':300, 'GOOGL': 130}, 'discover_7732')\n",
    "if myportfolio.get_total_portfolio({'APPL':100, 'GOOGL': 130}) == 3200:\n",
    "    print('Pass')\n",
    "else:\n",
    "    print('Fail')"
   ]
  }
 ],
 "metadata": {
  "kernelspec": {
   "display_name": "Python 3",
   "language": "python",
   "name": "python3"
  },
  "language_info": {
   "codemirror_mode": {
    "name": "ipython",
    "version": 3
   },
   "file_extension": ".py",
   "mimetype": "text/x-python",
   "name": "python",
   "nbconvert_exporter": "python",
   "pygments_lexer": "ipython3",
   "version": "3.7.0"
  },
  "toc": {
   "nav_menu": {},
   "number_sections": true,
   "sideBar": true,
   "skip_h1_title": false,
   "toc_cell": false,
   "toc_position": {},
   "toc_section_display": "block",
   "toc_window_display": false
  },
  "varInspector": {
   "cols": {
    "lenName": 16,
    "lenType": 16,
    "lenVar": 40
   },
   "kernels_config": {
    "python": {
     "delete_cmd_postfix": "",
     "delete_cmd_prefix": "del ",
     "library": "var_list.py",
     "varRefreshCmd": "print(var_dic_list())"
    },
    "r": {
     "delete_cmd_postfix": ") ",
     "delete_cmd_prefix": "rm(",
     "library": "var_list.r",
     "varRefreshCmd": "cat(var_dic_list()) "
    }
   },
   "types_to_exclude": [
    "module",
    "function",
    "builtin_function_or_method",
    "instance",
    "_Feature"
   ],
   "window_display": false
  }
 },
 "nbformat": 4,
 "nbformat_minor": 2
}
